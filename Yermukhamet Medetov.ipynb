{
 "cells": [
  {
   "cell_type": "markdown",
   "metadata": {},
   "source": [
    "### Medetov Yermukhamet\n",
    "## Hw 1"
   ]
  },
  {
   "cell_type": "code",
   "execution_count": 449,
   "metadata": {},
   "outputs": [],
   "source": [
    "import pandas as pd\n",
    "import numpy as np\n",
    "\n",
    "import seaborn as sns\n",
    "import matplotlib.pyplot as plt\n",
    "%matplotlib inline"
   ]
  },
  {
   "cell_type": "code",
   "execution_count": 405,
   "metadata": {},
   "outputs": [],
   "source": [
    "col=['List_of_courses', 'Course_ID' ,'CourseAbbr' ,'S/T' ,'CourseTitle', 'Cr' ,'Days' ,'Time' ,'Enr', 'Students_in_waitlist','Waitlist_cap','Appr','NotAppr', 'Cap','Faculty', 'Room', 'Start Date' ,'Finish Date' ,'School' ,'Level']"
   ]
  },
  {
   "cell_type": "code",
   "execution_count": 406,
   "metadata": {},
   "outputs": [],
   "source": [
    "df=pd.read_excel('list.xls',names=col)"
   ]
  },
  {
   "cell_type": "code",
   "execution_count": 407,
   "metadata": {},
   "outputs": [],
   "source": [
    "df=df[5:]"
   ]
  },
  {
   "cell_type": "code",
   "execution_count": 408,
   "metadata": {},
   "outputs": [
    {
     "data": {
      "text/html": [
       "<div>\n",
       "<style scoped>\n",
       "    .dataframe tbody tr th:only-of-type {\n",
       "        vertical-align: middle;\n",
       "    }\n",
       "\n",
       "    .dataframe tbody tr th {\n",
       "        vertical-align: top;\n",
       "    }\n",
       "\n",
       "    .dataframe thead th {\n",
       "        text-align: right;\n",
       "    }\n",
       "</style>\n",
       "<table border=\"1\" class=\"dataframe\">\n",
       "  <thead>\n",
       "    <tr style=\"text-align: right;\">\n",
       "      <th></th>\n",
       "      <th>List_of_courses</th>\n",
       "      <th>Course_ID</th>\n",
       "      <th>CourseAbbr</th>\n",
       "      <th>S/T</th>\n",
       "      <th>CourseTitle</th>\n",
       "      <th>Cr</th>\n",
       "      <th>Days</th>\n",
       "      <th>Time</th>\n",
       "      <th>Enr</th>\n",
       "      <th>Students_in_waitlist</th>\n",
       "      <th>Waitlist_cap</th>\n",
       "      <th>Appr</th>\n",
       "      <th>NotAppr</th>\n",
       "      <th>Cap</th>\n",
       "      <th>Faculty</th>\n",
       "      <th>Room</th>\n",
       "      <th>Start Date</th>\n",
       "      <th>Finish Date</th>\n",
       "      <th>School</th>\n",
       "      <th>Level</th>\n",
       "    </tr>\n",
       "  </thead>\n",
       "  <tbody>\n",
       "    <tr>\n",
       "      <th>5</th>\n",
       "      <td>1</td>\n",
       "      <td>227</td>\n",
       "      <td>ANT 140</td>\n",
       "      <td>1L</td>\n",
       "      <td>World Prehistory</td>\n",
       "      <td>3</td>\n",
       "      <td>T R</td>\n",
       "      <td>03:00 PM-04:15 PM</td>\n",
       "      <td>118</td>\n",
       "      <td>0</td>\n",
       "      <td>10</td>\n",
       "      <td>0</td>\n",
       "      <td>118</td>\n",
       "      <td>120</td>\n",
       "      <td>Paula Dupuy</td>\n",
       "      <td>Online</td>\n",
       "      <td>17-AUG-20</td>\n",
       "      <td>27-NOV-20</td>\n",
       "      <td>SSH</td>\n",
       "      <td>UG</td>\n",
       "    </tr>\n",
       "    <tr>\n",
       "      <th>6</th>\n",
       "      <td>2</td>\n",
       "      <td>1035</td>\n",
       "      <td>ANT 262</td>\n",
       "      <td>1L</td>\n",
       "      <td>Monkey business: Primate Society and Behavior</td>\n",
       "      <td>3</td>\n",
       "      <td>T R</td>\n",
       "      <td>10:30 AM-11:45 AM</td>\n",
       "      <td>20</td>\n",
       "      <td>0</td>\n",
       "      <td>10</td>\n",
       "      <td>2</td>\n",
       "      <td>18</td>\n",
       "      <td>24</td>\n",
       "      <td>Reed Coil</td>\n",
       "      <td>Online</td>\n",
       "      <td>17-AUG-20</td>\n",
       "      <td>27-NOV-20</td>\n",
       "      <td>SSH</td>\n",
       "      <td>UG</td>\n",
       "    </tr>\n",
       "    <tr>\n",
       "      <th>7</th>\n",
       "      <td>3</td>\n",
       "      <td>2961</td>\n",
       "      <td>ANT 280</td>\n",
       "      <td>1L</td>\n",
       "      <td>Introduction to Medical Anthropology</td>\n",
       "      <td>3</td>\n",
       "      <td>T R</td>\n",
       "      <td>12:00 PM-01:15 PM</td>\n",
       "      <td>24</td>\n",
       "      <td>0</td>\n",
       "      <td>10</td>\n",
       "      <td>0</td>\n",
       "      <td>24</td>\n",
       "      <td>24</td>\n",
       "      <td>Ramey Moore</td>\n",
       "      <td>Online</td>\n",
       "      <td>17-AUG-20</td>\n",
       "      <td>27-NOV-20</td>\n",
       "      <td>SSH</td>\n",
       "      <td>UG</td>\n",
       "    </tr>\n",
       "    <tr>\n",
       "      <th>8</th>\n",
       "      <td>4</td>\n",
       "      <td>4471</td>\n",
       "      <td>ANT 281/SOC 281</td>\n",
       "      <td>1L</td>\n",
       "      <td>Health, Illness and Society</td>\n",
       "      <td>3</td>\n",
       "      <td>M W F</td>\n",
       "      <td>04:00 PM-04:50 PM</td>\n",
       "      <td>23</td>\n",
       "      <td>0</td>\n",
       "      <td>10</td>\n",
       "      <td>2</td>\n",
       "      <td>21</td>\n",
       "      <td>24</td>\n",
       "      <td>Ronald Moore</td>\n",
       "      <td>Online</td>\n",
       "      <td>17-AUG-20</td>\n",
       "      <td>27-NOV-20</td>\n",
       "      <td>SSH</td>\n",
       "      <td>UG</td>\n",
       "    </tr>\n",
       "    <tr>\n",
       "      <th>9</th>\n",
       "      <td>5</td>\n",
       "      <td>4736</td>\n",
       "      <td>ANT 333</td>\n",
       "      <td>1L</td>\n",
       "      <td>Anthropology of Space</td>\n",
       "      <td>3</td>\n",
       "      <td>T R</td>\n",
       "      <td>12:00 PM-01:15 PM</td>\n",
       "      <td>11</td>\n",
       "      <td>0</td>\n",
       "      <td>10</td>\n",
       "      <td>1</td>\n",
       "      <td>10</td>\n",
       "      <td>24</td>\n",
       "      <td>Reed Coil</td>\n",
       "      <td>Online</td>\n",
       "      <td>17-AUG-20</td>\n",
       "      <td>27-NOV-20</td>\n",
       "      <td>SSH</td>\n",
       "      <td>UG</td>\n",
       "    </tr>\n",
       "  </tbody>\n",
       "</table>\n",
       "</div>"
      ],
      "text/plain": [
       "  List_of_courses Course_ID       CourseAbbr S/T  \\\n",
       "5               1       227          ANT 140  1L   \n",
       "6               2      1035          ANT 262  1L   \n",
       "7               3      2961          ANT 280  1L   \n",
       "8               4      4471  ANT 281/SOC 281  1L   \n",
       "9               5      4736          ANT 333  1L   \n",
       "\n",
       "                                     CourseTitle Cr    Days  \\\n",
       "5                               World Prehistory  3    T R    \n",
       "6  Monkey business: Primate Society and Behavior  3    T R    \n",
       "7           Introduction to Medical Anthropology  3    T R    \n",
       "8                    Health, Illness and Society  3  M W F    \n",
       "9                          Anthropology of Space  3    T R    \n",
       "\n",
       "                Time  Enr Students_in_waitlist Waitlist_cap Appr NotAppr  Cap  \\\n",
       "5  03:00 PM-04:15 PM  118                    0           10    0     118  120   \n",
       "6  10:30 AM-11:45 AM   20                    0           10    2      18   24   \n",
       "7  12:00 PM-01:15 PM   24                    0           10    0      24   24   \n",
       "8  04:00 PM-04:50 PM   23                    0           10    2      21   24   \n",
       "9  12:00 PM-01:15 PM   11                    0           10    1      10   24   \n",
       "\n",
       "        Faculty    Room Start Date Finish Date School Level  \n",
       "5   Paula Dupuy  Online  17-AUG-20   27-NOV-20    SSH    UG  \n",
       "6     Reed Coil  Online  17-AUG-20   27-NOV-20    SSH    UG  \n",
       "7   Ramey Moore  Online  17-AUG-20   27-NOV-20    SSH    UG  \n",
       "8  Ronald Moore  Online  17-AUG-20   27-NOV-20    SSH    UG  \n",
       "9     Reed Coil  Online  17-AUG-20   27-NOV-20    SSH    UG  "
      ]
     },
     "execution_count": 408,
     "metadata": {},
     "output_type": "execute_result"
    }
   ],
   "source": [
    "df.head()"
   ]
  },
  {
   "cell_type": "code",
   "execution_count": 409,
   "metadata": {},
   "outputs": [],
   "source": [
    "df=df.drop(['List_of_courses','Course_ID','Days' ,'CourseTitle','Time', 'Students_in_waitlist','Waitlist_cap','Appr','NotAppr', 'Cap','Room', 'Start Date' ,'Finish Date' ,'School' ,'Level'] , axis=1)"
   ]
  },
  {
   "cell_type": "code",
   "execution_count": 411,
   "metadata": {},
   "outputs": [
    {
     "data": {
      "text/plain": [
       "WCS 150            37\n",
       "PHYS 161           36\n",
       "MATH 161           26\n",
       "HST 100            25\n",
       "PHIL 210           13\n",
       "MATH 273           10\n",
       "KAZ 201            10\n",
       "KAZ 202             9\n",
       "WCS 210             8\n",
       "BIOL 230            8\n",
       "REL 110/HST 110     7\n",
       "WCS 230             6\n",
       "CHEM 211L           5\n",
       "KAZ 313             5\n",
       "ECON 301            4\n",
       "ECON 101            4\n",
       "ECON 201            4\n",
       "WCS 240             4\n",
       "EAS 710             4\n",
       "WCS 202             4\n",
       "MATH 251            4\n",
       "MATH 263            4\n",
       "KAZ 371             4\n",
       "ECON 102            4\n",
       "ECON 211            4\n",
       "SPA 101             3\n",
       "MATH 162            3\n",
       "BIOL 101            3\n",
       "KAZ 363             3\n",
       "WCS 260/WLL 235     3\n",
       "SPA 201             3\n",
       "CHEM 101            3\n",
       "PLS 211             3\n",
       "CHEM 090            2\n",
       "LING 131            2\n",
       "PHYS 530            2\n",
       "PLS 150             2\n",
       "ANT 400             2\n",
       "KOR 101             2\n",
       "PLS 395             2\n",
       "ECON 417            2\n",
       "WCS 250             2\n",
       "ECON 325            2\n",
       "KAZ 351             2\n",
       "PHYS 261            2\n",
       "BIOL 105            2\n",
       "KAZ 357             2\n",
       "PHYS 452            2\n",
       "PHYS 750            2\n",
       "BIOL 370            2\n",
       "PLS 210             2\n",
       "BIOL 340            2\n",
       "BIOL 355            2\n",
       "PHYS 473            2\n",
       "SOC 213             2\n",
       "CHN 102             2\n",
       "KAZ 364             2\n",
       "PHYS 315            2\n",
       "WCS 501             2\n",
       "PHYS 550            2\n",
       "Name: CourseAbbr, dtype: int64"
      ]
     },
     "execution_count": 411,
     "metadata": {},
     "output_type": "execute_result"
    }
   ],
   "source": [
    "df['CourseAbbr'].value_counts().head(60)"
   ]
  },
  {
   "cell_type": "code",
   "execution_count": 412,
   "metadata": {},
   "outputs": [],
   "source": [
    "#df['S/T']= df['S/T'].replace(regex=r'\\d+L', value='L')"
   ]
  },
  {
   "cell_type": "code",
   "execution_count": 413,
   "metadata": {},
   "outputs": [],
   "source": [
    "df['CourseAbbr']= df['CourseAbbr'].replace(' ', '_', regex=True)"
   ]
  },
  {
   "cell_type": "code",
   "execution_count": 414,
   "metadata": {},
   "outputs": [],
   "source": [
    "df['CourseAbbr']= df['CourseAbbr'].replace(regex=r'MATH+\\w+', value='MATH' ) # changed all math courses \n",
    "\n",
    "\n",
    "df['CourseAbbr']= df['CourseAbbr'].replace(regex=r'HST+\\w+', value='HST' ) \n",
    "\n",
    "df['CourseAbbr']= df['CourseAbbr'].replace(regex=r'PHYS+\\w+', value='PHYS' ) \n",
    "\n",
    "\n",
    "df['CourseAbbr']= df['CourseAbbr'].replace(regex=r'WCS+\\w+', value='WCS' ) \n",
    "\n",
    "df['CourseAbbr']= df['CourseAbbr'].replace(regex=r'ECON+\\w+', value='ECON' ) \n",
    "\n",
    "df['CourseAbbr']= df['CourseAbbr'].replace(regex=r'PHIL+\\w+', value='PHIL' ) \n",
    "df['CourseAbbr']= df['CourseAbbr'].replace(regex=r'KAZ+\\w+', value='KAZ' ) \n",
    "df['CourseAbbr']= df['CourseAbbr'].replace(regex=r'BIOL+\\w+', value='BIOL' ) \n",
    "df['CourseAbbr']= df['CourseAbbr'].replace(regex=r'REL+\\w+', value='REL' ) \n",
    "df['CourseAbbr']= df['CourseAbbr'].replace(regex=r'CHEM+\\w+', value='CHEM' ) \n",
    "df['CourseAbbr']= df['CourseAbbr'].replace(regex=r'SPA+\\w+', value='SPA' ) \n",
    "df['CourseAbbr']= df['CourseAbbr'].replace(regex=r'SOC+\\w+', value='SOC' ) \n",
    "df['CourseAbbr']= df['CourseAbbr'].replace(regex=r'KOR+\\w+', value='KOR' ) \n",
    "df['CourseAbbr']= df['CourseAbbr'].replace(regex=r'PLS+\\w+', value='PLS' ) \n",
    "df['CourseAbbr']= df['CourseAbbr'].replace(regex=r'LING+\\w+', value='LING' ) \n",
    "df['CourseAbbr']= df['CourseAbbr'].replace(regex=r'CHN+\\w+', value='CHN' ) \n",
    "df['CourseAbbr']= df['CourseAbbr'].replace(regex=r'SPA+\\w+', value='SPA' ) \n",
    "df['CourseAbbr']= df['CourseAbbr'].replace(regex=r'ANT+\\w+', value='ANT' ) \n",
    "df['CourseAbbr']= df['CourseAbbr'].replace(regex=r'EAS+\\w+', value='EAS' ) \n",
    "df['CourseAbbr']= df['CourseAbbr'].replace(regex=r'TUR+\\w+', value='TUR' ) \n",
    "df['CourseAbbr']= df['CourseAbbr'].replace(regex=r'WLL+\\w+', value='WLL' ) \n",
    "df['CourseAbbr']= df['CourseAbbr'].replace(regex=r'CHN+\\w+', value='CHN' )\n",
    "df['CourseAbbr']= df['CourseAbbr'].replace(regex=r'REL+\\w+', value='REL' ) \n",
    "df['CourseAbbr']= df['CourseAbbr'].replace(regex=r'FRE+\\w+', value='FRE' ) \n",
    "df['CourseAbbr']= df['CourseAbbr'].replace(regex=r'KFL+\\w+', value='KFL' ) \n",
    "\n",
    "\n",
    "# In some cases Instead of One course I had two or three, I will consider them as the first one\n",
    "\n",
    "\n",
    "df['CourseAbbr']= df['CourseAbbr'].replace(regex=r'REL/HST', value='REL' ) \n",
    "df['CourseAbbr']= df['CourseAbbr'].replace(regex=r'SPA/WLL', value='SPA' ) \n",
    "df['CourseAbbr']= df['CourseAbbr'].replace(regex=r'WCS/WLL', value='WCS' ) \n",
    "df['CourseAbbr']= df['CourseAbbr'].replace(regex=r'PHIL/HST', value='PHIL' ) \n",
    "df['CourseAbbr']= df['CourseAbbr'].replace(regex=r'WLL/ANT', value='WLL' ) \n",
    "df['CourseAbbr']= df['CourseAbbr'].replace(regex=r'HST/TUR', value='HST' ) \n",
    "df['CourseAbbr']= df['CourseAbbr'].replace(regex=r'PHIL/REL', value='REL' ) \n",
    "df['CourseAbbr']= df['CourseAbbr'].replace(regex=r'HST/ANT', value='HST' ) \n",
    "df['CourseAbbr']= df['CourseAbbr'].replace(regex=r'REL/ANT', value='REL' ) \n",
    "df['CourseAbbr']= df['CourseAbbr'].replace(regex=r'EAS/PLS/SOC', value='EAS' ) \n",
    "df['CourseAbbr']= df['CourseAbbr'].replace(regex=r'ANT/SOC', value='ANT' ) \n",
    "\n",
    "\n",
    "\n",
    "\n",
    "\n",
    "#SHSS_301        \n",
    "\n",
    "#SSH_503       "
   ]
  },
  {
   "cell_type": "code",
   "execution_count": 415,
   "metadata": {},
   "outputs": [
    {
     "data": {
      "text/plain": [
       "MATH        76\n",
       "WCS         73\n",
       "PHYS        68\n",
       "BIOL        56\n",
       "KAZ         52\n",
       "ECON        46\n",
       "HST         39\n",
       "PLS         38\n",
       "CHEM        33\n",
       "PHIL        19\n",
       "EAS         17\n",
       "SOC         15\n",
       "WLL         13\n",
       "ANT         11\n",
       "REL          9\n",
       "LING         9\n",
       "SPA          9\n",
       "KOR          5\n",
       "TUR          4\n",
       "CHN          3\n",
       "FRE          3\n",
       "KFL          1\n",
       "SHSS_301     1\n",
       "SSH_503      1\n",
       "Name: CourseAbbr, dtype: int64"
      ]
     },
     "execution_count": 415,
     "metadata": {},
     "output_type": "execute_result"
    }
   ],
   "source": [
    "df['CourseAbbr'].value_counts().head(50) # I have sorted each subject , \n",
    "                                         # Now using SSH course groups I will split them into faculties"
   ]
  },
  {
   "cell_type": "code",
   "execution_count": 417,
   "metadata": {},
   "outputs": [
    {
     "data": {
      "text/html": [
       "<div>\n",
       "<style scoped>\n",
       "    .dataframe tbody tr th:only-of-type {\n",
       "        vertical-align: middle;\n",
       "    }\n",
       "\n",
       "    .dataframe tbody tr th {\n",
       "        vertical-align: top;\n",
       "    }\n",
       "\n",
       "    .dataframe thead th {\n",
       "        text-align: right;\n",
       "    }\n",
       "</style>\n",
       "<table border=\"1\" class=\"dataframe\">\n",
       "  <thead>\n",
       "    <tr style=\"text-align: right;\">\n",
       "      <th></th>\n",
       "      <th>CourseAbbr</th>\n",
       "      <th>S/T</th>\n",
       "      <th>Cr</th>\n",
       "      <th>Enr</th>\n",
       "      <th>Faculty</th>\n",
       "    </tr>\n",
       "  </thead>\n",
       "  <tbody>\n",
       "    <tr>\n",
       "      <th>5</th>\n",
       "      <td>ANT</td>\n",
       "      <td>1L</td>\n",
       "      <td>3</td>\n",
       "      <td>118</td>\n",
       "      <td>Paula Dupuy</td>\n",
       "    </tr>\n",
       "    <tr>\n",
       "      <th>6</th>\n",
       "      <td>ANT</td>\n",
       "      <td>1L</td>\n",
       "      <td>3</td>\n",
       "      <td>20</td>\n",
       "      <td>Reed Coil</td>\n",
       "    </tr>\n",
       "    <tr>\n",
       "      <th>7</th>\n",
       "      <td>ANT</td>\n",
       "      <td>1L</td>\n",
       "      <td>3</td>\n",
       "      <td>24</td>\n",
       "      <td>Ramey Moore</td>\n",
       "    </tr>\n",
       "    <tr>\n",
       "      <th>8</th>\n",
       "      <td>ANT</td>\n",
       "      <td>1L</td>\n",
       "      <td>3</td>\n",
       "      <td>23</td>\n",
       "      <td>Ronald Moore</td>\n",
       "    </tr>\n",
       "    <tr>\n",
       "      <th>9</th>\n",
       "      <td>ANT</td>\n",
       "      <td>1L</td>\n",
       "      <td>3</td>\n",
       "      <td>11</td>\n",
       "      <td>Reed Coil</td>\n",
       "    </tr>\n",
       "  </tbody>\n",
       "</table>\n",
       "</div>"
      ],
      "text/plain": [
       "  CourseAbbr S/T Cr  Enr       Faculty\n",
       "5        ANT  1L  3  118   Paula Dupuy\n",
       "6        ANT  1L  3   20     Reed Coil\n",
       "7        ANT  1L  3   24   Ramey Moore\n",
       "8        ANT  1L  3   23  Ronald Moore\n",
       "9        ANT  1L  3   11     Reed Coil"
      ]
     },
     "execution_count": 417,
     "metadata": {},
     "output_type": "execute_result"
    }
   ],
   "source": [
    "df.head()"
   ]
  },
  {
   "cell_type": "code",
   "execution_count": 418,
   "metadata": {},
   "outputs": [
    {
     "data": {
      "text/plain": [
       "Askar Syrlybekov                          8\n",
       "Berk Yavuzoglu                            7\n",
       "Daniel Scarborough                        7\n",
       "Caress Schenk                             6\n",
       "Chethan Purushothama                      6\n",
       "                                         ..\n",
       "Olena Filchakova                          1\n",
       "Shane Ryan                                1\n",
       "Francesc Xavier Mateos Planas             1\n",
       "Daniel Oliveira Da Silva, Kerem Ugurlu    1\n",
       "Anara Molkenova                           1\n",
       "Name: Faculty, Length: 218, dtype: int64"
      ]
     },
     "execution_count": 418,
     "metadata": {},
     "output_type": "execute_result"
    }
   ],
   "source": [
    "df['Faculty'].value_counts()"
   ]
  },
  {
   "cell_type": "code",
   "execution_count": 419,
   "metadata": {},
   "outputs": [
    {
     "data": {
      "text/plain": [
       "218"
      ]
     },
     "execution_count": 419,
     "metadata": {},
     "output_type": "execute_result"
    }
   ],
   "source": [
    "df['Faculty'].nunique()  # number of all professors in SSH according to given information\n"
   ]
  },
  {
   "cell_type": "code",
   "execution_count": 420,
   "metadata": {},
   "outputs": [
    {
     "data": {
      "text/plain": [
       "74.57142857142857"
      ]
     },
     "execution_count": 420,
     "metadata": {},
     "output_type": "execute_result"
    }
   ],
   "source": [
    "# Average class size for Political Science dep.\n",
    "\n",
    "df[df['CourseAbbr']== 'PLS'].head()\n",
    "avg_pol= df[df['CourseAbbr']== 'PLS']['Enr'].sum()/df[df['CourseAbbr']== 'PLS']['Faculty'].nunique()\n",
    "avg_pol"
   ]
  },
  {
   "cell_type": "code",
   "execution_count": 421,
   "metadata": {},
   "outputs": [
    {
     "data": {
      "text/plain": [
       "14"
      ]
     },
     "execution_count": 421,
     "metadata": {},
     "output_type": "execute_result"
    }
   ],
   "source": [
    "df[df['CourseAbbr']== 'PLS']['Faculty'].nunique() # I have checked from SSH site that there are 14 teachers and \n",
    "                                                   # one Department chair, so this number looks acceptable"
   ]
  },
  {
   "cell_type": "code",
   "execution_count": 422,
   "metadata": {},
   "outputs": [
    {
     "data": {
      "text/plain": [
       "115.0"
      ]
     },
     "execution_count": 422,
     "metadata": {},
     "output_type": "execute_result"
    }
   ],
   "source": [
    "# ACC Department of Economics\n",
    "\n",
    "\n",
    "df[df['CourseAbbr']== 'ECON'].head()  \n",
    "avg_econ= df[df['CourseAbbr']== 'ECON']['Enr'].sum()/df[df['CourseAbbr']== 'ECON']['Faculty'].nunique()\n",
    "avg_econ"
   ]
  },
  {
   "cell_type": "code",
   "execution_count": 423,
   "metadata": {},
   "outputs": [
    {
     "data": {
      "text/plain": [
       "113.08695652173913"
      ]
     },
     "execution_count": 423,
     "metadata": {},
     "output_type": "execute_result"
    }
   ],
   "source": [
    "# ACC Department of History, Philosophy and Religious study\n",
    "\n",
    "a=df['CourseAbbr']=='HST'  \n",
    "b=df['CourseAbbr']=='PHIL'\n",
    "c=df['CourseAbbr']=='REL'\n",
    "\n",
    "avg_hist= df[a | b | c]['Enr'].sum()/df[a | b | c]['Faculty'].nunique()\n",
    "avg_hist"
   ]
  },
  {
   "cell_type": "code",
   "execution_count": 424,
   "metadata": {},
   "outputs": [
    {
     "data": {
      "text/plain": [
       "48.125"
      ]
     },
     "execution_count": 424,
     "metadata": {},
     "output_type": "execute_result"
    }
   ],
   "source": [
    "# ACC Department of Kazakh Lang and Turk studies\n",
    "\n",
    "\n",
    "\n",
    "a=df['CourseAbbr']=='KAZ' \n",
    "b=df['CourseAbbr']=='TUR'\n",
    "c=df['CourseAbbr']=='KFL'\n",
    "avg_kaz=df[a|b|c]['Enr'].sum()/df[a|b|c]['Faculty'].nunique()\n",
    "avg_kaz"
   ]
  },
  {
   "cell_type": "code",
   "execution_count": 425,
   "metadata": {},
   "outputs": [
    {
     "data": {
      "text/plain": [
       "45.98039215686274"
      ]
     },
     "execution_count": 425,
     "metadata": {},
     "output_type": "execute_result"
    }
   ],
   "source": [
    "# Department of Languages, Linguistics, and Literature\n",
    "\n",
    "\n",
    "x=df['CourseAbbr']== 'LING'\n",
    "a=df['CourseAbbr']=='CHN'\n",
    "b=df['CourseAbbr']=='FRE'\n",
    "c=df['CourseAbbr']=='WLL'\n",
    "d=df['CourseAbbr']=='SPA'\n",
    "e=df['CourseAbbr']=='KOR'  \n",
    "f=df['CourseAbbr']=='WCS'                           \n",
    "avg_lang=df[x | a | b | c | d | e|f]['Enr'].sum()/df[x | a | b | c | d | e|f]['Faculty'].nunique()\n",
    "avg_lang"
   ]
  },
  {
   "cell_type": "code",
   "execution_count": 397,
   "metadata": {},
   "outputs": [
    {
     "data": {
      "text/plain": [
       "39.23809523809524"
      ]
     },
     "execution_count": 397,
     "metadata": {},
     "output_type": "execute_result"
    }
   ],
   "source": [
    "# Department of Sociology and Antrop.\n",
    "\n",
    "\n",
    "a=df['CourseAbbr']=='SOC'\n",
    "b=df['CourseAbbr']=='ANT'\n",
    "c=df['CourseAbbr']=='EAS'\n",
    "avg_soc=df[ a | b | c ]['Enr'].sum()/df[a | b | c ]['Faculty'].nunique()\n",
    "avg_soc"
   ]
  },
  {
   "cell_type": "code",
   "execution_count": 399,
   "metadata": {},
   "outputs": [
    {
     "data": {
      "text/plain": [
       "65.6086956521739"
      ]
     },
     "execution_count": 399,
     "metadata": {},
     "output_type": "execute_result"
    }
   ],
   "source": [
    "# ACC Department of Biology\n",
    "avg_biol= df[df['CourseAbbr']=='BIOL']['Enr'].sum()/df[df['CourseAbbr']=='BIOL']['Faculty'].nunique()\n",
    "avg_biol\n"
   ]
  },
  {
   "cell_type": "code",
   "execution_count": 400,
   "metadata": {},
   "outputs": [
    {
     "data": {
      "text/plain": [
       "60.857142857142854"
      ]
     },
     "execution_count": 400,
     "metadata": {},
     "output_type": "execute_result"
    }
   ],
   "source": [
    "# ACC Department of Chem\n",
    "avg_chem= df[df['CourseAbbr']=='CHEM']['Enr'].sum()/df[df['CourseAbbr']=='CHEM']['Faculty'].nunique()\n",
    "avg_chem"
   ]
  },
  {
   "cell_type": "code",
   "execution_count": 401,
   "metadata": {},
   "outputs": [
    {
     "data": {
      "text/plain": [
       "172.43478260869566"
      ]
     },
     "execution_count": 401,
     "metadata": {},
     "output_type": "execute_result"
    }
   ],
   "source": [
    "# ACC Department of MATH\n",
    "avg_math= df[df['CourseAbbr']=='MATH']['Enr'].sum()/df[df['CourseAbbr']=='MATH']['Faculty'].nunique()\n",
    "avg_math                    # highest one"
   ]
  },
  {
   "cell_type": "code",
   "execution_count": 402,
   "metadata": {},
   "outputs": [
    {
     "data": {
      "text/plain": [
       "147.4"
      ]
     },
     "execution_count": 402,
     "metadata": {},
     "output_type": "execute_result"
    }
   ],
   "source": [
    "# ACC Department of Physics\n",
    "avg_phys= df[df['CourseAbbr']=='PHYS']['Enr'].sum()/df[df['CourseAbbr']=='PHYS']['Faculty'].nunique()\n",
    "avg_phys"
   ]
  },
  {
   "cell_type": "code",
   "execution_count": null,
   "metadata": {},
   "outputs": [],
   "source": [
    "#    I am not sure that these two bottom  subjects are included into Departments, \n",
    "#    because I coud not find them from SSH website.\n",
    "#    That's why I will write this as SHSS dep"
   ]
  },
  {
   "cell_type": "code",
   "execution_count": 430,
   "metadata": {},
   "outputs": [
    {
     "data": {
      "text/plain": [
       "5.0"
      ]
     },
     "execution_count": 430,
     "metadata": {},
     "output_type": "execute_result"
    }
   ],
   "source": [
    "# ACC SHSS 301  and  SSH 501\n",
    "\n",
    "a=df['CourseAbbr']=='SHSS_301'\n",
    "b=df['CourseAbbr']=='SSH_503'\n",
    "\n",
    "avg_shss= df[a|b]['Enr'].sum()/df[a|b]['Faculty'].nunique()\n",
    "avg_shss\n"
   ]
  },
  {
   "cell_type": "code",
   "execution_count": 436,
   "metadata": {},
   "outputs": [],
   "source": [
    "d = {'Department': ['Dep. of Polit.Science', 'Dep. of Economics','Dep. of Hist', 'Dep. of KAZ. lang','Dep. of Languages','Dep. of Sociology','Dep. of Biology','Dep. of Chemistry','Dep. of MATH','Dep. of Physics','Dep. SHSS'], 'Avg Class Sizes': [avg_pol, avg_econ,avg_hist,avg_kaz,avg_lang,avg_soc,avg_biol,avg_chem,avg_math,avg_phys,avg_shss]}"
   ]
  },
  {
   "cell_type": "code",
   "execution_count": 438,
   "metadata": {},
   "outputs": [
    {
     "data": {
      "text/html": [
       "<div>\n",
       "<style scoped>\n",
       "    .dataframe tbody tr th:only-of-type {\n",
       "        vertical-align: middle;\n",
       "    }\n",
       "\n",
       "    .dataframe tbody tr th {\n",
       "        vertical-align: top;\n",
       "    }\n",
       "\n",
       "    .dataframe thead th {\n",
       "        text-align: right;\n",
       "    }\n",
       "</style>\n",
       "<table border=\"1\" class=\"dataframe\">\n",
       "  <thead>\n",
       "    <tr style=\"text-align: right;\">\n",
       "      <th></th>\n",
       "      <th>Department</th>\n",
       "      <th>Avg Class Sizes</th>\n",
       "    </tr>\n",
       "  </thead>\n",
       "  <tbody>\n",
       "    <tr>\n",
       "      <th>0</th>\n",
       "      <td>Dep. of Polit.Science</td>\n",
       "      <td>74.571429</td>\n",
       "    </tr>\n",
       "    <tr>\n",
       "      <th>1</th>\n",
       "      <td>Dep. of Economics</td>\n",
       "      <td>115.000000</td>\n",
       "    </tr>\n",
       "    <tr>\n",
       "      <th>2</th>\n",
       "      <td>Dep. of Hist</td>\n",
       "      <td>113.086957</td>\n",
       "    </tr>\n",
       "    <tr>\n",
       "      <th>3</th>\n",
       "      <td>Dep. of KAZ. lang</td>\n",
       "      <td>48.125000</td>\n",
       "    </tr>\n",
       "    <tr>\n",
       "      <th>4</th>\n",
       "      <td>Dep. of Languages</td>\n",
       "      <td>45.980392</td>\n",
       "    </tr>\n",
       "    <tr>\n",
       "      <th>5</th>\n",
       "      <td>Dep. of Sociology</td>\n",
       "      <td>39.238095</td>\n",
       "    </tr>\n",
       "    <tr>\n",
       "      <th>6</th>\n",
       "      <td>Dep. of Biology</td>\n",
       "      <td>65.608696</td>\n",
       "    </tr>\n",
       "    <tr>\n",
       "      <th>7</th>\n",
       "      <td>Dep. of Chemistry</td>\n",
       "      <td>60.857143</td>\n",
       "    </tr>\n",
       "    <tr>\n",
       "      <th>8</th>\n",
       "      <td>Dep. of MATH</td>\n",
       "      <td>172.434783</td>\n",
       "    </tr>\n",
       "    <tr>\n",
       "      <th>9</th>\n",
       "      <td>Dep. of Physics</td>\n",
       "      <td>147.400000</td>\n",
       "    </tr>\n",
       "    <tr>\n",
       "      <th>10</th>\n",
       "      <td>Dep. SHSS</td>\n",
       "      <td>5.000000</td>\n",
       "    </tr>\n",
       "  </tbody>\n",
       "</table>\n",
       "</div>"
      ],
      "text/plain": [
       "               Department  Avg Class Sizes\n",
       "0   Dep. of Polit.Science        74.571429\n",
       "1       Dep. of Economics       115.000000\n",
       "2            Dep. of Hist       113.086957\n",
       "3       Dep. of KAZ. lang        48.125000\n",
       "4       Dep. of Languages        45.980392\n",
       "5       Dep. of Sociology        39.238095\n",
       "6         Dep. of Biology        65.608696\n",
       "7       Dep. of Chemistry        60.857143\n",
       "8            Dep. of MATH       172.434783\n",
       "9         Dep. of Physics       147.400000\n",
       "10              Dep. SHSS         5.000000"
      ]
     },
     "execution_count": 438,
     "metadata": {},
     "output_type": "execute_result"
    }
   ],
   "source": [
    "final= pd.DataFrame(d)\n",
    "final"
   ]
  },
  {
   "cell_type": "code",
   "execution_count": 466,
   "metadata": {},
   "outputs": [
    {
     "data": {
      "image/png": "[encoded data removed]",
      "text/plain": [
       "<Figure size 1440x1080 with 1 Axes>"
      ]
     },
     "metadata": {
      "needs_background": "light"
     },
     "output_type": "display_data"
    }
   ],
   "source": [
    "plt.figure(figsize=(20,15))\n",
    "ax = sns.barplot(x=\"Department\", y=\"Avg Class Sizes\", data=final)"
   ]
  },
  {
   "cell_type": "markdown",
   "metadata": {},
   "source": [
    "Our goal was to check hypothesis:\n",
    "\n",
    "$H_{0}:$ ACS in Math = ACS in all other depts\n",
    "\n",
    "$H_{1}:$  ACS in Math > ACS in all other depts"
   ]
  },
  {
   "cell_type": "markdown",
   "metadata": {},
   "source": [
    "According to above graph we see that ACS in Math department is higher than other departments. So, we can reject $H_{0}$ hypothesis "
   ]
  }
 ],
 "metadata": {
  "kernelspec": {
   "display_name": "Python 3",
   "language": "python",
   "name": "python3"
  },
  "language_info": {
   "codemirror_mode": {
    "name": "ipython",
    "version": 3
   },
   "file_extension": ".py",
   "mimetype": "text/x-python",
   "name": "python",
   "nbconvert_exporter": "python",
   "pygments_lexer": "ipython3",
   "version": "3.7.6"
  }
 },
 "nbformat": 4,
 "nbformat_minor": 4
}
